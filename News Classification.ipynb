{
 "cells": [
  {
   "cell_type": "code",
   "execution_count": 1,
   "metadata": {},
   "outputs": [],
   "source": [
    "import numpy as np\n",
    "import pandas as pd\n",
    "import matplotlib.pyplot as plt\n",
    "import seaborn as sns\n",
    "%matplotlib inline\n"
   ]
  },
  {
   "cell_type": "code",
   "execution_count": 2,
   "metadata": {},
   "outputs": [],
   "source": [
    "df = pd.read_csv(\"bbc-text.csv\")"
   ]
  },
  {
   "cell_type": "code",
   "execution_count": 76,
   "metadata": {},
   "outputs": [
    {
     "data": {
      "text/html": [
       "<div>\n",
       "<style scoped>\n",
       "    .dataframe tbody tr th:only-of-type {\n",
       "        vertical-align: middle;\n",
       "    }\n",
       "\n",
       "    .dataframe tbody tr th {\n",
       "        vertical-align: top;\n",
       "    }\n",
       "\n",
       "    .dataframe thead th {\n",
       "        text-align: right;\n",
       "    }\n",
       "</style>\n",
       "<table border=\"1\" class=\"dataframe\">\n",
       "  <thead>\n",
       "    <tr style=\"text-align: right;\">\n",
       "      <th></th>\n",
       "      <th>category</th>\n",
       "      <th>text</th>\n",
       "      <th>category_target</th>\n",
       "    </tr>\n",
       "  </thead>\n",
       "  <tbody>\n",
       "    <tr>\n",
       "      <th>0</th>\n",
       "      <td>tech</td>\n",
       "      <td>tv future hand viewer home theatre system plas...</td>\n",
       "      <td>4</td>\n",
       "    </tr>\n",
       "    <tr>\n",
       "      <th>1</th>\n",
       "      <td>business</td>\n",
       "      <td>worldcom bos left book alone former worldcom b...</td>\n",
       "      <td>0</td>\n",
       "    </tr>\n",
       "    <tr>\n",
       "      <th>2</th>\n",
       "      <td>sport</td>\n",
       "      <td>tiger wary farrell gamble leicester say rushed...</td>\n",
       "      <td>3</td>\n",
       "    </tr>\n",
       "    <tr>\n",
       "      <th>3</th>\n",
       "      <td>sport</td>\n",
       "      <td>yeading face newcastle fa cup premiership side...</td>\n",
       "      <td>3</td>\n",
       "    </tr>\n",
       "    <tr>\n",
       "      <th>4</th>\n",
       "      <td>entertainment</td>\n",
       "      <td>ocean twelve raid box office ocean twelve crim...</td>\n",
       "      <td>1</td>\n",
       "    </tr>\n",
       "    <tr>\n",
       "      <th>5</th>\n",
       "      <td>politics</td>\n",
       "      <td>howard hit back mongrel jibe michael howard sa...</td>\n",
       "      <td>2</td>\n",
       "    </tr>\n",
       "    <tr>\n",
       "      <th>6</th>\n",
       "      <td>politics</td>\n",
       "      <td>blair prepares name poll date tony blair likel...</td>\n",
       "      <td>2</td>\n",
       "    </tr>\n",
       "    <tr>\n",
       "      <th>7</th>\n",
       "      <td>sport</td>\n",
       "      <td>henman hope ended dubai third seed tim henman ...</td>\n",
       "      <td>3</td>\n",
       "    </tr>\n",
       "    <tr>\n",
       "      <th>8</th>\n",
       "      <td>sport</td>\n",
       "      <td>wilkinson fit face edinburgh england captain j...</td>\n",
       "      <td>3</td>\n",
       "    </tr>\n",
       "    <tr>\n",
       "      <th>9</th>\n",
       "      <td>entertainment</td>\n",
       "      <td>last star war child sixth final star war movie...</td>\n",
       "      <td>1</td>\n",
       "    </tr>\n",
       "  </tbody>\n",
       "</table>\n",
       "</div>"
      ],
      "text/plain": [
       "        category                                               text  \\\n",
       "0           tech  tv future hand viewer home theatre system plas...   \n",
       "1       business  worldcom bos left book alone former worldcom b...   \n",
       "2          sport  tiger wary farrell gamble leicester say rushed...   \n",
       "3          sport  yeading face newcastle fa cup premiership side...   \n",
       "4  entertainment  ocean twelve raid box office ocean twelve crim...   \n",
       "5       politics  howard hit back mongrel jibe michael howard sa...   \n",
       "6       politics  blair prepares name poll date tony blair likel...   \n",
       "7          sport  henman hope ended dubai third seed tim henman ...   \n",
       "8          sport  wilkinson fit face edinburgh england captain j...   \n",
       "9  entertainment  last star war child sixth final star war movie...   \n",
       "\n",
       "   category_target  \n",
       "0                4  \n",
       "1                0  \n",
       "2                3  \n",
       "3                3  \n",
       "4                1  \n",
       "5                2  \n",
       "6                2  \n",
       "7                3  \n",
       "8                3  \n",
       "9                1  "
      ]
     },
     "execution_count": 76,
     "metadata": {},
     "output_type": "execute_result"
    }
   ],
   "source": [
    "df.head(10)"
   ]
  },
  {
   "cell_type": "code",
   "execution_count": 4,
   "metadata": {},
   "outputs": [
    {
     "data": {
      "text/plain": [
       "0    tv future in the hands of viewers with home th...\n",
       "1    worldcom boss  left books alone  former worldc...\n",
       "2    tigers wary of farrell  gamble  leicester say ...\n",
       "3    yeading face newcastle in fa cup premiership s...\n",
       "4    ocean s twelve raids box office ocean s twelve...\n",
       "Name: text, dtype: object"
      ]
     },
     "execution_count": 4,
     "metadata": {},
     "output_type": "execute_result"
    }
   ],
   "source": [
    "df[\"text\"].head()"
   ]
  },
  {
   "cell_type": "code",
   "execution_count": 5,
   "metadata": {},
   "outputs": [
    {
     "data": {
      "text/plain": [
       "array(['tech', 'business', 'sport', 'entertainment', 'politics'],\n",
       "      dtype=object)"
      ]
     },
     "execution_count": 5,
     "metadata": {},
     "output_type": "execute_result"
    }
   ],
   "source": [
    "df[\"category\"].unique()"
   ]
  },
  {
   "cell_type": "code",
   "execution_count": 6,
   "metadata": {},
   "outputs": [
    {
     "data": {
      "text/plain": [
       "(2225, 2)"
      ]
     },
     "execution_count": 6,
     "metadata": {},
     "output_type": "execute_result"
    }
   ],
   "source": [
    "df.shape"
   ]
  },
  {
   "cell_type": "markdown",
   "metadata": {},
   "source": [
    "### Checking Null Values and blank space if any"
   ]
  },
  {
   "cell_type": "code",
   "execution_count": 7,
   "metadata": {},
   "outputs": [
    {
     "data": {
      "text/plain": [
       "category    0\n",
       "text        0\n",
       "dtype: int64"
      ]
     },
     "execution_count": 7,
     "metadata": {},
     "output_type": "execute_result"
    }
   ],
   "source": [
    "df.isnull().sum()"
   ]
  },
  {
   "cell_type": "code",
   "execution_count": 8,
   "metadata": {},
   "outputs": [],
   "source": [
    "#Technically, we're dealing with \"whitespace only\" strings. \n",
    "blank = []\n",
    "\n",
    "for i,category,text in df.itertuples():\n",
    "    if type(text) == str:\n",
    "        if text.isspace():\n",
    "            blank.append(i)"
   ]
  },
  {
   "cell_type": "code",
   "execution_count": 9,
   "metadata": {},
   "outputs": [
    {
     "data": {
      "text/plain": [
       "0"
      ]
     },
     "execution_count": 9,
     "metadata": {},
     "output_type": "execute_result"
    }
   ],
   "source": [
    "len(blank)"
   ]
  },
  {
   "cell_type": "markdown",
   "metadata": {},
   "source": [
    "### Checking the category"
   ]
  },
  {
   "cell_type": "code",
   "execution_count": 10,
   "metadata": {},
   "outputs": [
    {
     "data": {
      "text/plain": [
       "sport            511\n",
       "business         510\n",
       "politics         417\n",
       "tech             401\n",
       "entertainment    386\n",
       "Name: category, dtype: int64"
      ]
     },
     "execution_count": 10,
     "metadata": {},
     "output_type": "execute_result"
    }
   ],
   "source": [
    "df[\"category\"].value_counts()"
   ]
  },
  {
   "cell_type": "code",
   "execution_count": 11,
   "metadata": {},
   "outputs": [
    {
     "data": {
      "text/plain": [
       "<matplotlib.axes._subplots.AxesSubplot at 0x221b92cd6d8>"
      ]
     },
     "execution_count": 11,
     "metadata": {},
     "output_type": "execute_result"
    },
    {
     "data": {
      "image/png": "[encoded data removed]",
      "text/plain": [
       "<Figure size 432x288 with 1 Axes>"
      ]
     },
     "metadata": {
      "needs_background": "light"
     },
     "output_type": "display_data"
    }
   ],
   "source": [
    "sns.countplot(x=df[\"category\"],data=df)"
   ]
  },
  {
   "cell_type": "markdown",
   "metadata": {},
   "source": [
    "### Removing all stopwords and punctuations"
   ]
  },
  {
   "cell_type": "code",
   "execution_count": 12,
   "metadata": {},
   "outputs": [],
   "source": [
    "import spacy\n",
    "nlp = spacy.load('en_core_web_sm')\n",
    "import nltk\n",
    "from nltk.tokenize import word_tokenize\n",
    "from nltk.stem import WordNetLemmatizer \n",
    "from nltk.corpus import stopwords\n",
    "import re\n",
    "\n",
    "    "
   ]
  },
  {
   "cell_type": "code",
   "execution_count": 13,
   "metadata": {},
   "outputs": [
    {
     "name": "stdout",
     "output_type": "stream",
     "text": [
      "done\n"
     ]
    }
   ],
   "source": [
    "lemmatizer = WordNetLemmatizer()\n",
    "for index,value in df[\"text\"].items():\n",
    "    text = re.sub(' +', ' ', df[\"text\"][index])\n",
    "    text = text.lower().replace('\\n',' ').replace('\\r','').strip()\n",
    "    text = text.split()\n",
    "    text = [ lemmatizer.lemmatize(word) for word in text if not word in stopwords.words('english')]\n",
    "    df[\"text\"][index] = \" \".join(text)\n",
    "print(\"done\")    "
   ]
  },
  {
   "cell_type": "code",
   "execution_count": 14,
   "metadata": {},
   "outputs": [
    {
     "data": {
      "text/plain": [
       "0    tv future hand viewer home theatre system plas...\n",
       "1    worldcom bos left book alone former worldcom b...\n",
       "2    tiger wary farrell gamble leicester say rushed...\n",
       "3    yeading face newcastle fa cup premiership side...\n",
       "4    ocean twelve raid box office ocean twelve crim...\n",
       "Name: text, dtype: object"
      ]
     },
     "execution_count": 14,
     "metadata": {},
     "output_type": "execute_result"
    }
   ],
   "source": [
    "df[\"text\"].head()"
   ]
  },
  {
   "cell_type": "code",
   "execution_count": 16,
   "metadata": {},
   "outputs": [
    {
     "data": {
      "text/html": [
       "<div>\n",
       "<style scoped>\n",
       "    .dataframe tbody tr th:only-of-type {\n",
       "        vertical-align: middle;\n",
       "    }\n",
       "\n",
       "    .dataframe tbody tr th {\n",
       "        vertical-align: top;\n",
       "    }\n",
       "\n",
       "    .dataframe thead th {\n",
       "        text-align: right;\n",
       "    }\n",
       "</style>\n",
       "<table border=\"1\" class=\"dataframe\">\n",
       "  <thead>\n",
       "    <tr style=\"text-align: right;\">\n",
       "      <th></th>\n",
       "      <th>category</th>\n",
       "      <th>text</th>\n",
       "    </tr>\n",
       "  </thead>\n",
       "  <tbody>\n",
       "    <tr>\n",
       "      <th>0</th>\n",
       "      <td>tech</td>\n",
       "      <td>tv future hand viewer home theatre system plas...</td>\n",
       "    </tr>\n",
       "    <tr>\n",
       "      <th>1</th>\n",
       "      <td>business</td>\n",
       "      <td>worldcom bos left book alone former worldcom b...</td>\n",
       "    </tr>\n",
       "    <tr>\n",
       "      <th>2</th>\n",
       "      <td>sport</td>\n",
       "      <td>tiger wary farrell gamble leicester say rushed...</td>\n",
       "    </tr>\n",
       "    <tr>\n",
       "      <th>3</th>\n",
       "      <td>sport</td>\n",
       "      <td>yeading face newcastle fa cup premiership side...</td>\n",
       "    </tr>\n",
       "    <tr>\n",
       "      <th>4</th>\n",
       "      <td>entertainment</td>\n",
       "      <td>ocean twelve raid box office ocean twelve crim...</td>\n",
       "    </tr>\n",
       "  </tbody>\n",
       "</table>\n",
       "</div>"
      ],
      "text/plain": [
       "        category                                               text\n",
       "0           tech  tv future hand viewer home theatre system plas...\n",
       "1       business  worldcom bos left book alone former worldcom b...\n",
       "2          sport  tiger wary farrell gamble leicester say rushed...\n",
       "3          sport  yeading face newcastle fa cup premiership side...\n",
       "4  entertainment  ocean twelve raid box office ocean twelve crim..."
      ]
     },
     "execution_count": 16,
     "metadata": {},
     "output_type": "execute_result"
    }
   ],
   "source": [
    "df.head()"
   ]
  },
  {
   "cell_type": "code",
   "execution_count": 54,
   "metadata": {},
   "outputs": [],
   "source": [
    "X = df[\"text\"]\n",
    "y = df[\"category\"]"
   ]
  },
  {
   "cell_type": "markdown",
   "metadata": {},
   "source": [
    "### Split the data into train & test sets"
   ]
  },
  {
   "cell_type": "code",
   "execution_count": 55,
   "metadata": {},
   "outputs": [],
   "source": [
    "from sklearn.model_selection import train_test_split\n",
    "\n",
    "X_train, X_test, y_train, y_test = train_test_split(X, y, test_size=0.2, random_state=42)"
   ]
  },
  {
   "cell_type": "code",
   "execution_count": 56,
   "metadata": {},
   "outputs": [
    {
     "data": {
      "text/plain": [
       "(1780,)"
      ]
     },
     "execution_count": 56,
     "metadata": {},
     "output_type": "execute_result"
    }
   ],
   "source": [
    "X_train.shape"
   ]
  },
  {
   "cell_type": "code",
   "execution_count": 57,
   "metadata": {},
   "outputs": [
    {
     "data": {
      "text/plain": [
       "(445,)"
      ]
     },
     "execution_count": 57,
     "metadata": {},
     "output_type": "execute_result"
    }
   ],
   "source": [
    "X_test.shape"
   ]
  },
  {
   "cell_type": "code",
   "execution_count": 58,
   "metadata": {},
   "outputs": [
    {
     "data": {
      "text/plain": [
       "(1780,)"
      ]
     },
     "execution_count": 58,
     "metadata": {},
     "output_type": "execute_result"
    }
   ],
   "source": [
    "y_train.shape"
   ]
  },
  {
   "cell_type": "code",
   "execution_count": 59,
   "metadata": {},
   "outputs": [
    {
     "data": {
      "text/plain": [
       "(445,)"
      ]
     },
     "execution_count": 59,
     "metadata": {},
     "output_type": "execute_result"
    }
   ],
   "source": [
    "y_test.shape"
   ]
  },
  {
   "cell_type": "markdown",
   "metadata": {},
   "source": [
    "### Build pipelines to vectorize the data, then train and fit a model\n",
    "Now that we have sets to train and test, we'll develop a selection of pipelines, each with a different model."
   ]
  },
  {
   "cell_type": "code",
   "execution_count": 60,
   "metadata": {},
   "outputs": [],
   "source": [
    "from sklearn.pipeline import Pipeline\n",
    "from sklearn.feature_extraction.text import TfidfVectorizer\n",
    "from sklearn.naive_bayes import MultinomialNB\n",
    "from sklearn.svm import LinearSVC\n",
    "from sklearn.tree import DecisionTreeClassifier\n",
    "from sklearn.neighbors import KNeighborsClassifier\n",
    "from sklearn.ensemble import RandomForestClassifier"
   ]
  },
  {
   "cell_type": "markdown",
   "metadata": {},
   "source": [
    "#### 1. Naive Bayes"
   ]
  },
  {
   "cell_type": "code",
   "execution_count": 61,
   "metadata": {},
   "outputs": [
    {
     "data": {
      "text/plain": [
       "Pipeline(memory=None,\n",
       "     steps=[('tfidf', TfidfVectorizer(analyzer='word', binary=False, decode_error='strict',\n",
       "        dtype=<class 'numpy.float64'>, encoding='utf-8', input='content',\n",
       "        lowercase=True, max_df=1.0, max_features=None, min_df=1,\n",
       "        ngram_range=(1, 1), norm='l2', preprocessor=None, smooth_idf=True,...rue,\n",
       "        vocabulary=None)), ('clf', MultinomialNB(alpha=1.0, class_prior=None, fit_prior=True))])"
      ]
     },
     "execution_count": 61,
     "metadata": {},
     "output_type": "execute_result"
    }
   ],
   "source": [
    "text_clf_nb = Pipeline([('tfidf', TfidfVectorizer()),\n",
    "                     ('clf', MultinomialNB()),\n",
    "])\n",
    "\n",
    "## Feed the training data through the pipeline\n",
    "text_clf_nb.fit(X_train, y_train)"
   ]
  },
  {
   "cell_type": "code",
   "execution_count": 62,
   "metadata": {},
   "outputs": [
    {
     "name": "stdout",
     "output_type": "stream",
     "text": [
      "Confusion matrix :\n",
      "[[96  0  5  0  0]\n",
      " [ 3 72  2  0  4]\n",
      " [ 2  0 81  0  0]\n",
      " [ 0  0  0 98  0]\n",
      " [ 1  0  0  1 80]]\n",
      "\n",
      "\n",
      "Classification Report :\n",
      "               precision    recall  f1-score   support\n",
      "\n",
      "     business       0.94      0.95      0.95       101\n",
      "entertainment       1.00      0.89      0.94        81\n",
      "     politics       0.92      0.98      0.95        83\n",
      "        sport       0.99      1.00      0.99        98\n",
      "         tech       0.95      0.98      0.96        82\n",
      "\n",
      "    micro avg       0.96      0.96      0.96       445\n",
      "    macro avg       0.96      0.96      0.96       445\n",
      " weighted avg       0.96      0.96      0.96       445\n",
      "\n",
      "\n",
      "\n",
      "Accuracy :\n",
      "0.9595505617977528\n"
     ]
    }
   ],
   "source": [
    "# Run predictions and analyze the results\n",
    "\n",
    "# Form a prediction set\n",
    "predictions = text_clf_nb.predict(X_test)\n",
    "\n",
    "# Report the confusion matrix\n",
    "from sklearn import metrics\n",
    "print(\"Confusion matrix :\")\n",
    "print(metrics.confusion_matrix(y_test,predictions))\n",
    "print(\"\\n\")\n",
    "\n",
    "# Print a classification report\n",
    "print(\"Classification Report :\")\n",
    "print(metrics.classification_report(y_test,predictions))\n",
    "print(\"\\n\")\n",
    "\n",
    "# Print the accuracy\n",
    "print(\"Accuracy :\")\n",
    "print( metrics.accuracy_score(y_test,predictions))"
   ]
  },
  {
   "cell_type": "markdown",
   "metadata": {},
   "source": [
    "#### 2. Support Vector Machine"
   ]
  },
  {
   "cell_type": "code",
   "execution_count": 63,
   "metadata": {},
   "outputs": [
    {
     "data": {
      "text/plain": [
       "Pipeline(memory=None,\n",
       "     steps=[('tfidf', TfidfVectorizer(analyzer='word', binary=False, decode_error='strict',\n",
       "        dtype=<class 'numpy.float64'>, encoding='utf-8', input='content',\n",
       "        lowercase=True, max_df=1.0, max_features=None, min_df=1,\n",
       "        ngram_range=(1, 1), norm='l2', preprocessor=None, smooth_idf=True,...ax_iter=1000,\n",
       "     multi_class='ovr', penalty='l2', random_state=None, tol=0.0001,\n",
       "     verbose=0))])"
      ]
     },
     "execution_count": 63,
     "metadata": {},
     "output_type": "execute_result"
    }
   ],
   "source": [
    "text_clf_lsvc = Pipeline([('tfidf', TfidfVectorizer()),\n",
    "                     ('clf', LinearSVC()),\n",
    "])\n",
    "\n",
    "## Feed the training data through the pipeline\n",
    "text_clf_lsvc.fit(X_train,y_train)"
   ]
  },
  {
   "cell_type": "code",
   "execution_count": 64,
   "metadata": {},
   "outputs": [
    {
     "name": "stdout",
     "output_type": "stream",
     "text": [
      "Confusion matrix :\n",
      "[[93  1  5  1  1]\n",
      " [ 0 80  0  0  1]\n",
      " [ 2  0 81  0  0]\n",
      " [ 0  0  0 98  0]\n",
      " [ 1  0  0  1 80]]\n",
      "\n",
      "\n",
      "Classification Report :\n",
      "               precision    recall  f1-score   support\n",
      "\n",
      "     business       0.97      0.92      0.94       101\n",
      "entertainment       0.99      0.99      0.99        81\n",
      "     politics       0.94      0.98      0.96        83\n",
      "        sport       0.98      1.00      0.99        98\n",
      "         tech       0.98      0.98      0.98        82\n",
      "\n",
      "    micro avg       0.97      0.97      0.97       445\n",
      "    macro avg       0.97      0.97      0.97       445\n",
      " weighted avg       0.97      0.97      0.97       445\n",
      "\n",
      "\n",
      "\n",
      "Accuracy :\n",
      "0.9707865168539326\n"
     ]
    }
   ],
   "source": [
    "# Run predictions and analyze the results\n",
    "\n",
    "# Form a prediction set\n",
    "predictions = text_clf_lsvc.predict(X_test)\n",
    "\n",
    "# Report the confusion matrix\n",
    "from sklearn import metrics\n",
    "print(\"Confusion matrix :\")\n",
    "print(metrics.confusion_matrix(y_test,predictions))\n",
    "print(\"\\n\")\n",
    "\n",
    "# Print a classification report\n",
    "print(\"Classification Report :\")\n",
    "print(metrics.classification_report(y_test,predictions))\n",
    "print(\"\\n\")\n",
    "\n",
    "# Print the accuracy\n",
    "print(\"Accuracy :\")\n",
    "print( metrics.accuracy_score(y_test,predictions))"
   ]
  },
  {
   "cell_type": "markdown",
   "metadata": {},
   "source": [
    "#### 3. Decision Tree"
   ]
  },
  {
   "cell_type": "code",
   "execution_count": 65,
   "metadata": {},
   "outputs": [
    {
     "data": {
      "text/plain": [
       "Pipeline(memory=None,\n",
       "     steps=[('tfidf', TfidfVectorizer(analyzer='word', binary=False, decode_error='strict',\n",
       "        dtype=<class 'numpy.float64'>, encoding='utf-8', input='content',\n",
       "        lowercase=True, max_df=1.0, max_features=None, min_df=1,\n",
       "        ngram_range=(1, 1), norm='l2', preprocessor=None, smooth_idf=True,...      min_weight_fraction_leaf=0.0, presort=False, random_state=None,\n",
       "            splitter='best'))])"
      ]
     },
     "execution_count": 65,
     "metadata": {},
     "output_type": "execute_result"
    }
   ],
   "source": [
    "text_clf_dt = Pipeline([('tfidf', TfidfVectorizer()),\n",
    "                     ('clf', DecisionTreeClassifier()),\n",
    "])\n",
    "\n",
    "## Feed the training data through the pipeline\n",
    "text_clf_dt.fit(X_train,y_train)"
   ]
  },
  {
   "cell_type": "code",
   "execution_count": 66,
   "metadata": {},
   "outputs": [
    {
     "name": "stdout",
     "output_type": "stream",
     "text": [
      "Confusion matrix :\n",
      "[[81  4  9  3  4]\n",
      " [ 3 65  0  4  9]\n",
      " [ 8  5 68  1  1]\n",
      " [ 4  0  4 89  1]\n",
      " [ 6  2  4  1 69]]\n",
      "\n",
      "\n",
      "Classification Report :\n",
      "               precision    recall  f1-score   support\n",
      "\n",
      "     business       0.79      0.80      0.80       101\n",
      "entertainment       0.86      0.80      0.83        81\n",
      "     politics       0.80      0.82      0.81        83\n",
      "        sport       0.91      0.91      0.91        98\n",
      "         tech       0.82      0.84      0.83        82\n",
      "\n",
      "    micro avg       0.84      0.84      0.84       445\n",
      "    macro avg       0.84      0.83      0.84       445\n",
      " weighted avg       0.84      0.84      0.84       445\n",
      "\n",
      "\n",
      "\n",
      "Accuracy :\n",
      "0.8359550561797753\n"
     ]
    }
   ],
   "source": [
    "# Run predictions and analyze the results\n",
    "\n",
    "# Form a prediction set\n",
    "predictions = text_clf_dt.predict(X_test)\n",
    "\n",
    "# Report the confusion matrix\n",
    "from sklearn import metrics\n",
    "print(\"Confusion matrix :\")\n",
    "print(metrics.confusion_matrix(y_test,predictions))\n",
    "print(\"\\n\")\n",
    "\n",
    "# Print a classification report\n",
    "print(\"Classification Report :\")\n",
    "print(metrics.classification_report(y_test,predictions))\n",
    "print(\"\\n\")\n",
    "\n",
    "# Print the accuracy\n",
    "print(\"Accuracy :\")\n",
    "print( metrics.accuracy_score(y_test,predictions))"
   ]
  },
  {
   "cell_type": "markdown",
   "metadata": {},
   "source": [
    "#### 4. K Neighbour"
   ]
  },
  {
   "cell_type": "code",
   "execution_count": 67,
   "metadata": {},
   "outputs": [
    {
     "data": {
      "text/plain": [
       "Pipeline(memory=None,\n",
       "     steps=[('tfidf', TfidfVectorizer(analyzer='word', binary=False, decode_error='strict',\n",
       "        dtype=<class 'numpy.float64'>, encoding='utf-8', input='content',\n",
       "        lowercase=True, max_df=1.0, max_features=None, min_df=1,\n",
       "        ngram_range=(1, 1), norm='l2', preprocessor=None, smooth_idf=True,...ki',\n",
       "           metric_params=None, n_jobs=None, n_neighbors=5, p=2,\n",
       "           weights='uniform'))])"
      ]
     },
     "execution_count": 67,
     "metadata": {},
     "output_type": "execute_result"
    }
   ],
   "source": [
    "text_clf_knn = Pipeline([('tfidf', TfidfVectorizer()),\n",
    "                          ('clf',KNeighborsClassifier())\n",
    "                        ])\n",
    "\n",
    "text_clf_knn.fit(X_train,y_train)"
   ]
  },
  {
   "cell_type": "code",
   "execution_count": 68,
   "metadata": {},
   "outputs": [
    {
     "name": "stdout",
     "output_type": "stream",
     "text": [
      "Confusion matrix :\n",
      "[[88  0 10  2  1]\n",
      " [ 1 76  2  0  2]\n",
      " [ 5  0 78  0  0]\n",
      " [ 0  0  0 98  0]\n",
      " [ 0  2  0  0 80]]\n",
      "\n",
      "\n",
      "Classification Report :\n",
      "               precision    recall  f1-score   support\n",
      "\n",
      "     business       0.94      0.87      0.90       101\n",
      "entertainment       0.97      0.94      0.96        81\n",
      "     politics       0.87      0.94      0.90        83\n",
      "        sport       0.98      1.00      0.99        98\n",
      "         tech       0.96      0.98      0.97        82\n",
      "\n",
      "    micro avg       0.94      0.94      0.94       445\n",
      "    macro avg       0.94      0.94      0.94       445\n",
      " weighted avg       0.94      0.94      0.94       445\n",
      "\n",
      "\n",
      "\n",
      "Accuracy :\n",
      "0.9438202247191011\n"
     ]
    }
   ],
   "source": [
    "# Run predictions and analyze the results\n",
    "\n",
    "# Form a prediction set\n",
    "predictions = text_clf_knn.predict(X_test)\n",
    "\n",
    "# Report the confusion matrix\n",
    "from sklearn import metrics\n",
    "print(\"Confusion matrix :\")\n",
    "print(metrics.confusion_matrix(y_test,predictions))\n",
    "print(\"\\n\")\n",
    "\n",
    "# Print a classification report\n",
    "print(\"Classification Report :\")\n",
    "print(metrics.classification_report(y_test,predictions))\n",
    "print(\"\\n\")\n",
    "\n",
    "# Print the accuracy\n",
    "print(\"Accuracy :\")\n",
    "print( metrics.accuracy_score(y_test,predictions))"
   ]
  },
  {
   "cell_type": "markdown",
   "metadata": {},
   "source": [
    "#### 4. Random Forest"
   ]
  },
  {
   "cell_type": "code",
   "execution_count": 69,
   "metadata": {},
   "outputs": [
    {
     "name": "stderr",
     "output_type": "stream",
     "text": [
      "C:\\Users\\DELL\\Anaconda3\\lib\\site-packages\\sklearn\\ensemble\\forest.py:246: FutureWarning: The default value of n_estimators will change from 10 in version 0.20 to 100 in 0.22.\n",
      "  \"10 in version 0.20 to 100 in 0.22.\", FutureWarning)\n"
     ]
    },
    {
     "data": {
      "text/plain": [
       "Pipeline(memory=None,\n",
       "     steps=[('tfidf', TfidfVectorizer(analyzer='word', binary=False, decode_error='strict',\n",
       "        dtype=<class 'numpy.float64'>, encoding='utf-8', input='content',\n",
       "        lowercase=True, max_df=1.0, max_features=None, min_df=1,\n",
       "        ngram_range=(1, 1), norm='l2', preprocessor=None, smooth_idf=True,...obs=None,\n",
       "            oob_score=False, random_state=None, verbose=0,\n",
       "            warm_start=False))])"
      ]
     },
     "execution_count": 69,
     "metadata": {},
     "output_type": "execute_result"
    }
   ],
   "source": [
    "text_clf_rf = Pipeline([('tfidf',TfidfVectorizer()),\n",
    "                        ('clf',RandomForestClassifier())\n",
    "    \n",
    "])\n",
    "text_clf_rf.fit(X_train,y_train)"
   ]
  },
  {
   "cell_type": "code",
   "execution_count": 70,
   "metadata": {},
   "outputs": [
    {
     "name": "stdout",
     "output_type": "stream",
     "text": [
      "Confusion matrix :\n",
      "[[86  2  9  1  3]\n",
      " [ 6 71  0  4  0]\n",
      " [11  1 70  1  0]\n",
      " [ 1  0  1 96  0]\n",
      " [ 6  2  0  2 72]]\n",
      "\n",
      "\n",
      "Classification Report :\n",
      "               precision    recall  f1-score   support\n",
      "\n",
      "     business       0.78      0.85      0.82       101\n",
      "entertainment       0.93      0.88      0.90        81\n",
      "     politics       0.88      0.84      0.86        83\n",
      "        sport       0.92      0.98      0.95        98\n",
      "         tech       0.96      0.88      0.92        82\n",
      "\n",
      "    micro avg       0.89      0.89      0.89       445\n",
      "    macro avg       0.89      0.89      0.89       445\n",
      " weighted avg       0.89      0.89      0.89       445\n",
      "\n",
      "\n",
      "\n",
      "Accuracy :\n",
      "0.8876404494382022\n"
     ]
    }
   ],
   "source": [
    "# Run predictions and analyze the results\n",
    "\n",
    "# Form a prediction set\n",
    "predictions = text_clf_rf.predict(X_test)\n",
    "\n",
    "# Report the confusion matrix\n",
    "from sklearn import metrics\n",
    "print(\"Confusion matrix :\")\n",
    "print(metrics.confusion_matrix(y_test,predictions))\n",
    "print(\"\\n\")\n",
    "\n",
    "# Print a classification report\n",
    "print(\"Classification Report :\")\n",
    "print(metrics.classification_report(y_test,predictions))\n",
    "print(\"\\n\")\n",
    "\n",
    "# Print the accuracy\n",
    "print(\"Accuracy :\")\n",
    "print( metrics.accuracy_score(y_test,predictions))"
   ]
  },
  {
   "cell_type": "code",
   "execution_count": 78,
   "metadata": {},
   "outputs": [
    {
     "name": "stdout",
     "output_type": "stream",
     "text": [
      "['tech']\n",
      "['sport']\n"
     ]
    }
   ],
   "source": [
    "news1 = \"\"\"Amazon on Tuesday unveiled a new biometric payment system using palm recognition,\n",
    "to be made available to rival retailers and also promoted as a replacement \n",
    "for badge entry at stadiums or workplaces.\n",
    "\"\"\"\n",
    "\n",
    "news2 = \"\"\"\n",
    "        Novak Djokovic laid down the challenge to his French Open rivals by only dropping five games in a first-round win against Sweden's Mikael Ymer.\n",
    "The Serb top seed, who is bidding for an 18th Grand Slam and a second French Open, eased to a 6-0 6-2 6-3 victory.\n",
    "After cruising to a 20-minute opening set, Djokovic ruthlessly maintained his level to win in an hour and 38 minutes.\n",
    "\"This is what my intentions will be, trying to get off the blocks very strong with a good intensity,\" he said.\n",
    "\"\"\"\n",
    "\n",
    "print(text_clf_lsvc.predict([news1]))\n",
    "print(text_clf_lsvc.predict([news2]))\n"
   ]
  },
  {
   "cell_type": "code",
   "execution_count": null,
   "metadata": {},
   "outputs": [],
   "source": []
  },
  {
   "cell_type": "code",
   "execution_count": null,
   "metadata": {},
   "outputs": [],
   "source": []
  }
 ],
 "metadata": {
  "kernelspec": {
   "display_name": "Python 3",
   "language": "python",
   "name": "python3"
  },
  "language_info": {
   "codemirror_mode": {
    "name": "ipython",
    "version": 3
   },
   "file_extension": ".py",
   "mimetype": "text/x-python",
   "name": "python",
   "nbconvert_exporter": "python",
   "pygments_lexer": "ipython3",
   "version": "3.7.3"
  }
 },
 "nbformat": 4,
 "nbformat_minor": 2
}
